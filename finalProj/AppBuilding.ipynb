version https://git-lfs.github.com/spec/v1
oid sha256:0bd6b6316e5b56ee3f2e72914639063d35c834d163d592b8ae2a51371e833ccd
size 384513
